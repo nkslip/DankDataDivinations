{
 "cells": [
  {
   "cell_type": "markdown",
   "metadata": {},
   "source": [
    "# Whats up gamers\n",
    "\n",
    "today i will be using my powers of data science for evil (aka, fun). I've gotten my hands on a little dataset about Cannabis Strains, types, flavors, and ratings. \n",
    "\n",
    "## The goal\n",
    "I have a few ideas brewing in the background, but I would first like to just play with some of the api's that deal with cannabis / terpine information. First, I want to explore the dataset and find some correlation between strains. \n",
    "\n",
    "Then, I want to use this data set and some clever programming in order to map different strains to the Minor arcana of Tarot. The biggest issue about this is mapping the effects / flavors to the actual meanings of the cards. That's what makes it fun!"
   ]
  },
  {
   "cell_type": "markdown",
   "metadata": {},
   "source": [
    "## The dataset\n",
    "[Cannabis Species EDA and Models Pipeline](https://www.kaggle.com/code/kabure/cannabis-species-eda-and-models-pipeline)"
   ]
  },
  {
   "cell_type": "markdown",
   "metadata": {},
   "source": [
    "First, lets import this sucker and take a lil peak at what's inside, and clean up any null values!"
   ]
  },
  {
   "cell_type": "code",
   "execution_count": 51,
   "metadata": {},
   "outputs": [],
   "source": [
    "\n",
    "import pandas as pd\n",
    "import matplotlib.pyplot as plt\n",
    "import seaborn as sns\n",
    "import numpy as np\n",
    "\n",
    "plt.style.use('ggplot')\n",
    "\n",
    "# NLP and Word Cloud\n",
    "from wordcloud import WordCloud, STOPWORDS\n",
    "import nltk.tokenize as word_tokenize\n",
    "import re\n",
    "from nltk.tokenize import word_tokenize\n",
    "from nltk.corpus import stopwords\n",
    "import string\n",
    "import csv\n",
    "from nltk.stem.porter import *\n",
    "from nltk.tokenize import sent_tokenize\n",
    "from sklearn.feature_extraction import stop_words\n",
    "from sklearn.feature_extraction.text import ENGLISH_STOP_WORDS\n",
    "\n"
   ]
  },
  {
   "cell_type": "code",
   "execution_count": 23,
   "metadata": {},
   "outputs": [],
   "source": [
    "df = pd.read_csv(\"./input/cannabis.csv\")"
   ]
  },
  {
   "cell_type": "code",
   "execution_count": 24,
   "metadata": {},
   "outputs": [
    {
     "name": "stdout",
     "output_type": "stream",
     "text": [
      "(2351, 6)\n",
      "Strain          0\n",
      "Type            0\n",
      "Rating          0\n",
      "Effects         0\n",
      "Flavor         46\n",
      "Description    33\n",
      "dtype: int64\n",
      "<class 'pandas.core.frame.DataFrame'>\n",
      "RangeIndex: 2351 entries, 0 to 2350\n",
      "Data columns (total 6 columns):\n",
      " #   Column       Non-Null Count  Dtype  \n",
      "---  ------       --------------  -----  \n",
      " 0   Strain       2351 non-null   object \n",
      " 1   Type         2351 non-null   object \n",
      " 2   Rating       2351 non-null   float64\n",
      " 3   Effects      2351 non-null   object \n",
      " 4   Flavor       2305 non-null   object \n",
      " 5   Description  2318 non-null   object \n",
      "dtypes: float64(1), object(5)\n",
      "memory usage: 110.3+ KB\n",
      "None\n"
     ]
    },
    {
     "data": {
      "text/html": [
       "<div>\n",
       "<style scoped>\n",
       "    .dataframe tbody tr th:only-of-type {\n",
       "        vertical-align: middle;\n",
       "    }\n",
       "\n",
       "    .dataframe tbody tr th {\n",
       "        vertical-align: top;\n",
       "    }\n",
       "\n",
       "    .dataframe thead th {\n",
       "        text-align: right;\n",
       "    }\n",
       "</style>\n",
       "<table border=\"1\" class=\"dataframe\">\n",
       "  <thead>\n",
       "    <tr style=\"text-align: right;\">\n",
       "      <th></th>\n",
       "      <th>Strain</th>\n",
       "      <th>Type</th>\n",
       "      <th>Rating</th>\n",
       "      <th>Effects</th>\n",
       "      <th>Flavor</th>\n",
       "      <th>Description</th>\n",
       "    </tr>\n",
       "  </thead>\n",
       "  <tbody>\n",
       "    <tr>\n",
       "      <th>0</th>\n",
       "      <td>100-Og</td>\n",
       "      <td>hybrid</td>\n",
       "      <td>4.0</td>\n",
       "      <td>Creative,Energetic,Tingly,Euphoric,Relaxed</td>\n",
       "      <td>Earthy,Sweet,Citrus</td>\n",
       "      <td>$100 OG is a 50/50 hybrid strain that packs a ...</td>\n",
       "    </tr>\n",
       "    <tr>\n",
       "      <th>1</th>\n",
       "      <td>98-White-Widow</td>\n",
       "      <td>hybrid</td>\n",
       "      <td>4.7</td>\n",
       "      <td>Relaxed,Aroused,Creative,Happy,Energetic</td>\n",
       "      <td>Flowery,Violet,Diesel</td>\n",
       "      <td>The ‘98 Aloha White Widow is an especially pot...</td>\n",
       "    </tr>\n",
       "    <tr>\n",
       "      <th>2</th>\n",
       "      <td>1024</td>\n",
       "      <td>sativa</td>\n",
       "      <td>4.4</td>\n",
       "      <td>Uplifted,Happy,Relaxed,Energetic,Creative</td>\n",
       "      <td>Spicy/Herbal,Sage,Woody</td>\n",
       "      <td>1024 is a sativa-dominant hybrid bred in Spain...</td>\n",
       "    </tr>\n",
       "    <tr>\n",
       "      <th>3</th>\n",
       "      <td>13-Dawgs</td>\n",
       "      <td>hybrid</td>\n",
       "      <td>4.2</td>\n",
       "      <td>Tingly,Creative,Hungry,Relaxed,Uplifted</td>\n",
       "      <td>Apricot,Citrus,Grapefruit</td>\n",
       "      <td>13 Dawgs is a hybrid of G13 and Chemdawg genet...</td>\n",
       "    </tr>\n",
       "    <tr>\n",
       "      <th>4</th>\n",
       "      <td>24K-Gold</td>\n",
       "      <td>hybrid</td>\n",
       "      <td>4.6</td>\n",
       "      <td>Happy,Relaxed,Euphoric,Uplifted,Talkative</td>\n",
       "      <td>Citrus,Earthy,Orange</td>\n",
       "      <td>Also known as Kosher Tangie, 24k Gold is a 60%...</td>\n",
       "    </tr>\n",
       "    <tr>\n",
       "      <th>5</th>\n",
       "      <td>3-Bears-Og</td>\n",
       "      <td>indica</td>\n",
       "      <td>0.0</td>\n",
       "      <td>None</td>\n",
       "      <td>None</td>\n",
       "      <td>3 Bears OG by Mephisto Genetics is an autoflow...</td>\n",
       "    </tr>\n",
       "  </tbody>\n",
       "</table>\n",
       "</div>"
      ],
      "text/plain": [
       "           Strain    Type  Rating                                     Effects  \\\n",
       "0          100-Og  hybrid     4.0  Creative,Energetic,Tingly,Euphoric,Relaxed   \n",
       "1  98-White-Widow  hybrid     4.7    Relaxed,Aroused,Creative,Happy,Energetic   \n",
       "2            1024  sativa     4.4   Uplifted,Happy,Relaxed,Energetic,Creative   \n",
       "3        13-Dawgs  hybrid     4.2     Tingly,Creative,Hungry,Relaxed,Uplifted   \n",
       "4        24K-Gold  hybrid     4.6   Happy,Relaxed,Euphoric,Uplifted,Talkative   \n",
       "5      3-Bears-Og  indica     0.0                                        None   \n",
       "\n",
       "                      Flavor  \\\n",
       "0        Earthy,Sweet,Citrus   \n",
       "1      Flowery,Violet,Diesel   \n",
       "2    Spicy/Herbal,Sage,Woody   \n",
       "3  Apricot,Citrus,Grapefruit   \n",
       "4       Citrus,Earthy,Orange   \n",
       "5                       None   \n",
       "\n",
       "                                         Description  \n",
       "0  $100 OG is a 50/50 hybrid strain that packs a ...  \n",
       "1  The ‘98 Aloha White Widow is an especially pot...  \n",
       "2  1024 is a sativa-dominant hybrid bred in Spain...  \n",
       "3  13 Dawgs is a hybrid of G13 and Chemdawg genet...  \n",
       "4  Also known as Kosher Tangie, 24k Gold is a 60%...  \n",
       "5  3 Bears OG by Mephisto Genetics is an autoflow...  "
      ]
     },
     "execution_count": 24,
     "metadata": {},
     "output_type": "execute_result"
    }
   ],
   "source": [
    "print(df.shape)\n",
    "print(df.isnull().sum())\n",
    "print(df.info())\n",
    "df.head(n=6)"
   ]
  },
  {
   "cell_type": "code",
   "execution_count": 25,
   "metadata": {},
   "outputs": [
    {
     "name": "stdout",
     "output_type": "stream",
     "text": [
      "(2351, 6)\n",
      "Strain         0\n",
      "Type           0\n",
      "Rating         0\n",
      "Effects        0\n",
      "Flavor         0\n",
      "Description    0\n",
      "dtype: int64\n"
     ]
    }
   ],
   "source": [
    "# Replace missing values with 'None'\n",
    "df.fillna('None', inplace=True)\n",
    "\n",
    "print(df.shape)\n",
    "print(df.isnull().sum())"
   ]
  },
  {
   "cell_type": "markdown",
   "metadata": {},
   "source": [
    "# Exploring the Data\n",
    "\n",
    "For funzies, lets explore the cannabis data and uncover any interesting relationships.\n",
    "\n",
    "1. Distribution of Types: Visualize the distribution of different types of cannabis strains. This will give us an overview of the proportions of each type in your dataset.\n",
    "\n",
    "2. Rating Analysis: Explore the ratings of cannabis strains, visualize the distribution of ratings and identify any patterns or outliers.\n",
    "\n",
    "3. Effects Analysis: Analyze the effects of different cannabis strains. \n",
    "\n",
    "4. Flavor Profiles by Type: Compare the flavor profiles of different types of cannabis strains. You can create a stacked bar chart or a grouped bar chart to show the distribution of flavors for each strain type. This will help you understand the flavor preferences within each strain type.\n",
    "\n",
    "5. Description Analysis: Analyze the descriptions of cannabis strains to uncover common themes or keywords. You can create a word cloud or perform text mining techniques like topic modeling or sentiment analysis to gain insights into the descriptions.\n",
    "\n",
    "6. Correlation Analysis: Explore correlations between different variables such as strain type, rating, and effects. You can create a correlation matrix or scatter plots to visualize any relationships between these variables."
   ]
  },
  {
   "cell_type": "code",
   "execution_count": 26,
   "metadata": {},
   "outputs": [
    {
     "data": {
      "image/png": "[encoded data removed]",
      "text/plain": [
       "<Figure size 576x432 with 1 Axes>"
      ]
     },
     "metadata": {},
     "output_type": "display_data"
    }
   ],
   "source": [
    "# Define the color palette\n",
    "color_palette = {'indica': 'blue', 'hybrid': 'purple', 'sativa': 'red'}\n",
    "\n",
    "# Count the occurrences of each type\n",
    "type_counts = df['Type'].value_counts()\n",
    "\n",
    "# Plot the distribution of types\n",
    "plt.figure(figsize=(8, 6))\n",
    "type_counts.plot(kind='bar', color=[color_palette.get(t, 'gray') for t in type_counts.index])\n",
    "plt.title('Distribution of Cannabis Types')\n",
    "plt.xlabel('Type')\n",
    "plt.ylabel('Count')\n",
    "plt.show()"
   ]
  },
  {
   "cell_type": "code",
   "execution_count": 27,
   "metadata": {},
   "outputs": [
    {
     "data": {
      "image/png": "[encoded data removed]",
      "text/plain": [
       "<Figure size 576x432 with 1 Axes>"
      ]
     },
     "metadata": {},
     "output_type": "display_data"
    }
   ],
   "source": [
    "plt.figure(figsize=(8, 6))\n",
    "plt.hist(df['Rating'], bins=10, color='blue', edgecolor='black')\n",
    "plt.title('Distribution of Cannabis Ratings')\n",
    "plt.xlabel('Rating')\n",
    "plt.ylabel('Count')\n",
    "plt.show()"
   ]
  },
  {
   "cell_type": "markdown",
   "metadata": {},
   "source": [
    "Most ratings are above 3 stars, which is great!"
   ]
  },
  {
   "cell_type": "code",
   "execution_count": 28,
   "metadata": {},
   "outputs": [
    {
     "data": {
      "image/png": "[encoded data removed]",
      "text/plain": [
       "<Figure size 1152x720 with 3 Axes>"
      ]
     },
     "metadata": {},
     "output_type": "display_data"
    }
   ],
   "source": [
    "import seaborn as sns\n",
    "\n",
    "plt.figure(figsize=(16, 10))\n",
    "plt.suptitle('Rating Distributions by Cannabis Species', fontsize=22)\n",
    "\n",
    "# Define the color palette for each type\n",
    "color_palette = {'indica': 'blue', 'hybrid': 'purple', 'sativa': 'red'}\n",
    "\n",
    "# Distribution of indicas\n",
    "plt.subplot(231)\n",
    "sns.histplot(data=df[(df.Type == 'indica') & (df.Rating > 0)], x=\"Rating\", color=color_palette['indica'])\n",
    "plt.xlabel(\"Rating\", fontsize=15)\n",
    "plt.ylabel(\"Count\", fontsize=15)\n",
    "plt.title(\"Distribution of Indicas\", fontsize=20)\n",
    "\n",
    "# Distribution of hybrids\n",
    "plt.subplot(232)\n",
    "sns.histplot(data=df[(df.Type == 'hybrid') & (df.Rating > 0)], x=\"Rating\", color=color_palette['hybrid'])\n",
    "plt.xlabel(\"Rating\", fontsize=15)\n",
    "plt.ylabel(\"Count\", fontsize=15)\n",
    "plt.title(\"Distribution of Hybrids\", fontsize=20)\n",
    "\n",
    "# Distribution of sativas\n",
    "plt.subplot(233)\n",
    "sns.histplot(data=df[(df.Type == 'sativa') & (df.Rating > 0)], x=\"Rating\", color=color_palette['sativa'])\n",
    "plt.xlabel(\"Rating\", fontsize=15)\n",
    "plt.ylabel(\"Count\", fontsize=15)\n",
    "plt.title(\"Distribution of Sativas\", fontsize=20)\n",
    "\n",
    "plt.tight_layout()\n",
    "plt.show()"
   ]
  },
  {
   "cell_type": "markdown",
   "metadata": {},
   "source": [
    "# Mapping Effects to the Minor Arcana\n",
    "\n",
    "\n",
    "This is where we get to the fun part. I am currently working with another creator to create a Tarot deck that is cannabis themed - the minor arcana (minus the court cards), will be different strains of weed. In order to map the effects of different cannabis strains to the minor arcana in tarot, we need to extract all of the 'effect' descriptors.\n",
    "\n",
    "First, I want to simplify the effects / flavors fields to be lists of strings."
   ]
  },
  {
   "cell_type": "code",
   "execution_count": 29,
   "metadata": {},
   "outputs": [
    {
     "name": "stdout",
     "output_type": "stream",
     "text": [
      "              Strain    Type  Rating  \\\n",
      "0             100-Og  hybrid     4.0   \n",
      "1     98-White-Widow  hybrid     4.7   \n",
      "2               1024  sativa     4.4   \n",
      "3           13-Dawgs  hybrid     4.2   \n",
      "4           24K-Gold  hybrid     4.6   \n",
      "...              ...     ...     ...   \n",
      "2346         Zeus-Og  hybrid     4.7   \n",
      "2347        Zkittlez  indica     4.6   \n",
      "2348     Zombie-Kush  indica     5.0   \n",
      "2349       Zombie-Og  indica     4.4   \n",
      "2350        Zoom-Pie  indica     4.6   \n",
      "\n",
      "                                               Effects  \\\n",
      "0     [Creative, Energetic, Tingly, Euphoric, Relaxed]   \n",
      "1       [Relaxed, Aroused, Creative, Happy, Energetic]   \n",
      "2      [Uplifted, Happy, Relaxed, Energetic, Creative]   \n",
      "3        [Tingly, Creative, Hungry, Relaxed, Uplifted]   \n",
      "4      [Happy, Relaxed, Euphoric, Uplifted, Talkative]   \n",
      "...                                                ...   \n",
      "2346   [Happy, Uplifted, Relaxed, Euphoric, Energetic]   \n",
      "2347      [Relaxed, Happy, Euphoric, Uplifted, Sleepy]   \n",
      "2348     [Relaxed, Sleepy, Talkative, Euphoric, Happy]   \n",
      "2349        [Relaxed, Sleepy, Euphoric, Happy, Hungry]   \n",
      "2350        [Hungry, Relaxed, Uplifted, Happy, Sleepy]   \n",
      "\n",
      "                             Flavor  \\\n",
      "0           [Earthy, Sweet, Citrus]   \n",
      "1         [Flowery, Violet, Diesel]   \n",
      "2       [Spicy/Herbal, Sage, Woody]   \n",
      "3     [Apricot, Citrus, Grapefruit]   \n",
      "4          [Citrus, Earthy, Orange]   \n",
      "...                             ...   \n",
      "2346          [Earthy, Woody, Pine]   \n",
      "2347          [Sweet, Berry, Grape]   \n",
      "2348  [Earthy, Sweet, Spicy/Herbal]   \n",
      "2349       [Sweet, Earthy, Pungent]   \n",
      "2350       [Berry, Earthy, Pungent]   \n",
      "\n",
      "                                            Description  \n",
      "0     $100 OG is a 50/50 hybrid strain that packs a ...  \n",
      "1     The ‘98 Aloha White Widow is an especially pot...  \n",
      "2     1024 is a sativa-dominant hybrid bred in Spain...  \n",
      "3     13 Dawgs is a hybrid of G13 and Chemdawg genet...  \n",
      "4     Also known as Kosher Tangie, 24k Gold is a 60%...  \n",
      "...                                                 ...  \n",
      "2346  Zeus OG is a hybrid cross between Pineapple OG...  \n",
      "2347  Zkittlez is an indica-dominant mix of Grape Ap...  \n",
      "2348  Zombie Kush by Ripper Seeds comes from two dif...  \n",
      "2349  If you’re looking to transform into a flesh-ea...  \n",
      "2350  Zoom Pie (also known as Zombie Pie) is a heavy...  \n",
      "\n",
      "[2351 rows x 6 columns]\n"
     ]
    }
   ],
   "source": [
    "# Convert \"effects\" column into a list of strings\n",
    "df['Effects'] = df['Effects'].apply(lambda x: x.split(',') if isinstance(x, str) else [])\n",
    "df['Flavor'] = df['Flavor'].apply(lambda x: x.split(',') if isinstance(x, str) else [])\n",
    "# Print the updated dataframe\n",
    "print(df)"
   ]
  },
  {
   "cell_type": "code",
   "execution_count": 30,
   "metadata": {},
   "outputs": [
    {
     "name": "stdout",
     "output_type": "stream",
     "text": [
      "['Creative' 'Energetic' 'Tingly' 'Euphoric' 'Relaxed' 'Aroused' 'Happy'\n",
      " 'Uplifted' 'Hungry' 'Talkative' 'None' 'Giggly' 'Focused' 'Sleepy' 'Dry'\n",
      " 'Mouth']\n"
     ]
    }
   ],
   "source": [
    "# Filter out missing values and extract unique values from the \"Effects\" column\n",
    "possible_descriptors = df['Effects'].dropna().explode().unique()\n",
    "\n",
    "# Print the unique values\n",
    "print(possible_descriptors)"
   ]
  },
  {
   "cell_type": "markdown",
   "metadata": {},
   "source": [
    "Woot! Next we need to map each card to at least 2 of these effects, just to narrow down our search. Then, lets see how many results we have for each card."
   ]
  },
  {
   "cell_type": "code",
   "execution_count": 31,
   "metadata": {},
   "outputs": [
    {
     "name": "stdout",
     "output_type": "stream",
     "text": [
      "Top Strains for ace of wands:\n",
      "Total Matches: 1127\n",
      "Strain: 100-Og\n",
      "Description: $100 OG is a 50/50 hybrid strain that packs a strong punch. The name supposedly refers to both its strength and high price when it first started showing up in Hollywood. As a plant, $100 OG tends to produce large dark green buds with few stems. Users report a strong body effect of an indica for pain relief with the more alert, cerebral feeling thanks to its sativa side.\n",
      "\n",
      "Strain: 98-White-Widow\n",
      "Description: The ‘98 Aloha White Widow is an especially potent cut of White Widow that has grown in renown alongside Hawaiian legends like Maui Wowie and Kona Gold. This White Widow phenotype reeks of diesel and skunk and has a rich earthy taste with intermittent notes of hash. Its buds are coated in trichomes, giving its dark foliage a lustrous glint to go along with its room-filling odor. This one-hitter-quitter uplifts the mind with mind-bending euphoria that materializes in the body as airy relaxation. ‘98 Aloha White Widow is available from Pua Mana 1st Hawaiian Pakalōlō Seed Bank.  \n",
      "\n",
      "Strain: 1024\n",
      "Description: 1024 is a sativa-dominant hybrid bred in Spain by Medical Seeds Co. The breeders claim to guard the secret genetics due to security reasons, but regardless of its genetic heritage, 1024 is a THC powerhouse with a sweet and spicy bouquet. Subtle fruit flavors mix with an herbal musk to produce uplifting sativa effects. One specific phenotype is noted for having a pungent odor that fills a room, similar to burning incense.\n",
      "\n",
      "Strain: Ak-48\n",
      "Description: Although it is a hybrid, the AK-48 high leans more towards typical sativa effects.  AK-48's parents are Ice and Jock Horror.  Its Ice mother has ancestors of Afghani, Skunk, Northern Lights and Shiva stock.\n",
      "\n",
      "Strain: Aceh\n",
      "Description: Aceh, also called Atjeh, refers to the sativa varieties of cannabis that come from the Aceh region of Indonesia. These sativas typically grow tall and thin, and are considered the finest among Indonesia’s landrace varieties \n",
      "\n"
     ]
    }
   ],
   "source": [
    "def find_matching_strains(card, mapped_effects, df, top_n=5):\n",
    "    scores = []\n",
    "    for index, row in df.iterrows():\n",
    "        strain_effects = set(row['Effects'])\n",
    "        card_effects = set(mapped_effects)\n",
    "        score = len(strain_effects.intersection(card_effects))\n",
    "        scores.append((row['Strain'], row['Description'], score))\n",
    "    \n",
    "    sorted_scores = sorted(scores, key=lambda x: x[2], reverse=True)\n",
    "    top_strains = [(score[0], score[1]) for score in sorted_scores[:top_n]]\n",
    "    total_matches = len([score for score in scores if score[2] > 0])  # Count number of strains with at least one match\n",
    "    return top_strains, total_matches\n",
    "\n",
    "# Example usage\n",
    "card = \"ace of wands\"\n",
    "mapped_effects = [\"Creative\", \"Energetic\"]\n",
    "top_strains, total_matches = find_matching_strains(card, mapped_effects, df, top_n=5)\n",
    "\n",
    "print(\"Top Strains for\", card + \":\")\n",
    "print(\"Total Matches:\", total_matches)\n",
    "for strain in top_strains:\n",
    "    print(\"Strain:\", strain[0])\n",
    "    print(\"Description:\", strain[1])\n",
    "    print()"
   ]
  },
  {
   "cell_type": "markdown",
   "metadata": {},
   "source": []
  },
  {
   "cell_type": "markdown",
   "metadata": {},
   "source": [
    "Oof. 1127 matches, lets see what else we can do to find a good match for each card."
   ]
  },
  {
   "cell_type": "code",
   "execution_count": 32,
   "metadata": {},
   "outputs": [
    {
     "name": "stdout",
     "output_type": "stream",
     "text": [
      "Top Strains for one of wands:\n",
      "Total Matches: 440\n",
      "Strain: 1024\n",
      "Description: 1024 is a sativa-dominant hybrid bred in Spain by Medical Seeds Co. The breeders claim to guard the secret genetics due to security reasons, but regardless of its genetic heritage, 1024 is a THC powerhouse with a sweet and spicy bouquet. Subtle fruit flavors mix with an herbal musk to produce uplifting sativa effects. One specific phenotype is noted for having a pungent odor that fills a room, similar to burning incense.\n",
      "\n",
      "Strain: 3D-Cbd\n",
      "Description: 3D CBD from Snoop Dogg’s branded line of cannabis strains was crafted with patients in mind. With a THC:CBD ratio of about 5:8, this earthy-flavored sativa is preferred for treating pain, inflammation, and muscle tension. Consumers susceptible to THC-induced anxiety may also appreciate the sobering, relaxing balance CBD has to offer.\n",
      "\n",
      "Strain: Acapulco-Gold\n",
      "Description: One of the most well-known strains, Acapulco Gold has been likened to dinner at a five-star restaurant. The strain comes from the areas in and around Acapulco, Mexico. Its orange hairs resemble a gold nugget, with gold, green, and brown colors of resin collecting on the buds. An aroma of burnt toffee lingers when the bud is broken up. Acapulco Gold has a reputation for being one of the best cannabis strains ever created, and is becoming more difficult to find due to more growers moving indoors. \n",
      "\n",
      "Strain: Aceh\n",
      "Description: Aceh, also called Atjeh, refers to the sativa varieties of cannabis that come from the Aceh region of Indonesia. These sativas typically grow tall and thin, and are considered the finest among Indonesia’s landrace varieties \n",
      "\n",
      "Strain: Acid-Dough\n",
      "Description: Acid Dough by Ripper Seeds is a sativa-dominant strain with energetic effects. Created by crossing Lilly (Queen Mother x Congo) x OG Badazz, this strain offers sweet, candy-like aromas with bright pineapple flavors and a generous yield. Acid Dough has an approximate 65-70 day flowering time and colorful foliage. This strain responds well to cold temperatures during the finishing process, creating buds with deep violet hues and extra resin production. Acid Dough won 2nd Place Best Sativa at the 2017 Spannabis Champions Cups and 2nd Place at the 2016 Expogrow Cup. \n",
      "\n"
     ]
    }
   ],
   "source": [
    "def find_matching_strains(card, category, df, top_n=5):\n",
    "    scores = []\n",
    "    if 'Type' not in df.columns:\n",
    "        print(\"Error: 'Type' column not found in the dataframe.\")\n",
    "        return [], 0\n",
    "    \n",
    "    for index, row in df.iterrows():\n",
    "        strain_category = row['Type']\n",
    "        if strain_category == category:\n",
    "            scores.append((row['Strain'], row['Description']))\n",
    "    \n",
    "    top_strains = scores[:top_n]\n",
    "    total_matches = len(scores)\n",
    "    return top_strains, total_matches\n",
    "\n",
    "# Example usage\n",
    "card = \"one of wands\"\n",
    "category = \"sativa\"\n",
    "top_strains, total_matches = find_matching_strains(card, category, df, top_n=5)\n",
    "\n",
    "print(\"Top Strains for\", card + \":\")\n",
    "print(\"Total Matches:\", total_matches)\n",
    "for strain in top_strains:\n",
    "    print(\"Strain:\", strain[0])\n",
    "    print(\"Description:\", strain[1])\n",
    "    print()"
   ]
  },
  {
   "cell_type": "markdown",
   "metadata": {},
   "source": [
    "Better! We are down to 440 matches. Lets try only using 5 star matches, and perhaps give it one more effect to work with."
   ]
  },
  {
   "cell_type": "code",
   "execution_count": 33,
   "metadata": {},
   "outputs": [
    {
     "name": "stdout",
     "output_type": "stream",
     "text": [
      "Top Strains for one of wands:\n",
      "Total Matches: 38\n",
      "Strain: Acid-Dough\n",
      "Description: Acid Dough by Ripper Seeds is a sativa-dominant strain with energetic effects. Created by crossing Lilly (Queen Mother x Congo) x OG Badazz, this strain offers sweet, candy-like aromas with bright pineapple flavors and a generous yield. Acid Dough has an approximate 65-70 day flowering time and colorful foliage. This strain responds well to cold temperatures during the finishing process, creating buds with deep violet hues and extra resin production. Acid Dough won 2nd Place Best Sativa at the 2017 Spannabis Champions Cups and 2nd Place at the 2016 Expogrow Cup. \n",
      "\n",
      "Strain: Alpha-Cow\n",
      "Description: Alpha Cow is a sativa strain that brings together genetics from Alpha Blue and Purple Cow. Its aroma is a distinctive mix of overripe blueberries and sweet toffee, while the exhale accentuates its smooth berry flavors. Some sativas tend to bring on racing thoughts, but this strain provides a calming buzz with mellow cerebral sensations that keep you feeling uplifted and positive.\n",
      "\n",
      "Strain: Amnesia-Ganja-Haze\n",
      "Description: Amnesia Ganja Haze is another award-winning strain from Sumo Seeds. The sativa is a genetic combination of the famous Amnesia Haze (a classic out of Amsterdam) and Silver Buddha Haze. This new twist on an old favorite garnered Sumo Seeds a 1st place win at the 2017 Semana y Copa Cannabica for Best Sativa, 1st prize for Best Indoor and Premio Especial Del Publico (Best Overall at the 2017 Il Castello Cannabis Cup), as well as 2nd place at the 2017 San Canuto Cup on the island of Fuerteventura. Exhibiting a strong Haze aroma of sour citrus and spiced tropical fruit, Amnesia Ganja Haze delivers a THC and terpene-heavy profile. This strain’s cerebral effects make it enjoyable for use throughout the day.      \n",
      "\n",
      "Strain: Bertberry-Cheesecake\n",
      "Description: Bertberry Cheesecake by Bert Baccarat is a bright sativa-dominant cross of Alien Moonshine and UK Cheese. This strain’s terpene profile is rich with sweet citrus, and its buds are bulbous, bright green, and tangled in orange hairs. Bertberry Cheesecake is both mentally and physically stimulating, offering creativity and strong euphoria. But mind your dosage, as  Bertberry Cheesecake has been known to overstimulate consumers prone to anxiety.  \n",
      "\n",
      "Strain: Birds-Eye\n",
      "Description: Birds Eye is a variety of Jack Herer grown by Canadian LP Tweed, Inc. Its flavors mirror the invigorating mix of sweet citrus and spicy pine that many associate with Jack Herer. Birds Eye produces potent yet balanced effects that ease stress and body pains while allowing consumers to maintain focus and activity. \n",
      "\n"
     ]
    }
   ],
   "source": [
    "def find_matching_strains(card, category, df, top_n=5):\n",
    "    scores = []\n",
    "    if 'Type' not in df.columns or 'Rating' not in df.columns:\n",
    "        print(\"Error: 'Type' or 'Rating' column not found in the dataframe.\")\n",
    "        return [], 0\n",
    "    \n",
    "    for index, row in df.iterrows():\n",
    "        strain_category = row['Type']\n",
    "        strain_rating = row['Rating']\n",
    "        if strain_category == category and strain_rating == 5:\n",
    "            scores.append((row['Strain'], row['Description']))\n",
    "    \n",
    "    top_strains = scores[:top_n]\n",
    "    total_matches = len(scores)\n",
    "    return top_strains, total_matches\n",
    "\n",
    "# Example usage\n",
    "card = \"one of wands\"\n",
    "category = \"sativa\"\n",
    "top_strains, total_matches = find_matching_strains(card, category, df, top_n=5)\n",
    "\n",
    "print(\"Top Strains for\", card + \":\")\n",
    "print(\"Total Matches:\", total_matches)\n",
    "for strain in top_strains:\n",
    "    print(\"Strain:\", strain[0])\n",
    "    print(\"Description:\", strain[1])\n",
    "    print()"
   ]
  },
  {
   "cell_type": "markdown",
   "metadata": {},
   "source": [
    "Ok, last stitch effort, it'd be fun to match the possible Flavors to the description of the card. I'll use ChatGPT to do this (since it 1. doesn't actually matter, 2. is a lot of work I dont' care to do.)"
   ]
  },
  {
   "cell_type": "code",
   "execution_count": 34,
   "metadata": {},
   "outputs": [
    {
     "name": "stdout",
     "output_type": "stream",
     "text": [
      "Top Strains for one of wands:\n",
      "Total Matches: 208\n",
      "Strain: 3D-Cbd\n",
      "Description: 3D CBD from Snoop Dogg’s branded line of cannabis strains was crafted with patients in mind. With a THC:CBD ratio of about 5:8, this earthy-flavored sativa is preferred for treating pain, inflammation, and muscle tension. Consumers susceptible to THC-induced anxiety may also appreciate the sobering, relaxing balance CBD has to offer.\n",
      "\n",
      "Strain: Acapulco-Gold\n",
      "Description: One of the most well-known strains, Acapulco Gold has been likened to dinner at a five-star restaurant. The strain comes from the areas in and around Acapulco, Mexico. Its orange hairs resemble a gold nugget, with gold, green, and brown colors of resin collecting on the buds. An aroma of burnt toffee lingers when the bud is broken up. Acapulco Gold has a reputation for being one of the best cannabis strains ever created, and is becoming more difficult to find due to more growers moving indoors. \n",
      "\n",
      "Strain: Acid-Dough\n",
      "Description: Acid Dough by Ripper Seeds is a sativa-dominant strain with energetic effects. Created by crossing Lilly (Queen Mother x Congo) x OG Badazz, this strain offers sweet, candy-like aromas with bright pineapple flavors and a generous yield. Acid Dough has an approximate 65-70 day flowering time and colorful foliage. This strain responds well to cold temperatures during the finishing process, creating buds with deep violet hues and extra resin production. Acid Dough won 2nd Place Best Sativa at the 2017 Spannabis Champions Cups and 2nd Place at the 2016 Expogrow Cup. \n",
      "\n",
      "Strain: Alaska\n",
      "Description: Alaska, developed by Tikun Olam, is an Israeli strain comprised of 70% sativa genetics. With uplifting effects intended for daytime consumption, Alaska has been found to successfully treat an array of medical symptoms including inflammation, pain, nausea, insomnia, and gastrointestinal disorders. \n",
      "\n",
      "Strain: Alice-In-Wonderland\n",
      "Description: Alice in Wonderland is a mostly sativa strain with euphoric cerebral effects. It provides an elevated sensory experience, making it a favorite strain for creative pastimes, outdoor activities, a laid-back weekend, or daytime stress relief. Said to be a descendant of Willy’s Wonder, Alice in Wonderland has many therapeutic qualities, especially for those suffering from anxiety or depression.\n",
      "\n"
     ]
    }
   ],
   "source": [
    "def find_matching_strains(card, category, df, top_n=5):\n",
    "    scores = []\n",
    "    if 'Type' not in df.columns or 'Rating' not in df.columns:\n",
    "        print(\"Error: 'Type' or 'Rating' column not found in the dataframe.\")\n",
    "        return [], 0\n",
    "    \n",
    "    for index, row in df.iterrows():\n",
    "        strain_category = row['Type']\n",
    "        strain_rating = row['Rating']\n",
    "        if strain_category == category and strain_rating >= 4.5:\n",
    "            scores.append((row['Strain'], row['Description']))\n",
    "    \n",
    "    top_strains = scores[:top_n]\n",
    "    total_matches = len(scores)\n",
    "    return top_strains, total_matches\n",
    "\n",
    "# Example usage\n",
    "card = \"one of wands\"\n",
    "category = \"sativa\"\n",
    "top_strains, total_matches = find_matching_strains(card, category, df, top_n=5)\n",
    "\n",
    "print(\"Top Strains for\", card + \":\")\n",
    "print(\"Total Matches:\", total_matches)\n",
    "for strain in top_strains:\n",
    "    print(\"Strain:\", strain[0])\n",
    "    print(\"Description:\", strain[1])\n",
    "    print()"
   ]
  },
  {
   "cell_type": "markdown",
   "metadata": {},
   "source": [
    "Not quite. Lets adapt our criteria to check for matching effects and flavor, but be more lenient on the Type of strain. (Lets also print out the matching criteria)"
   ]
  },
  {
   "cell_type": "code",
   "execution_count": 105,
   "metadata": {},
   "outputs": [],
   "source": [
    "import pandas as pd\n",
    "from difflib import get_close_matches\n",
    "\n",
    "def find_matching_strains(card, tarot_df, df, n=5):\n",
    "    # Find the card strain\n",
    "    card_strain = tarot_df[tarot_df['Card'] == card.lower()]\n",
    "\n",
    "    if not card_strain.empty:\n",
    "        # Extract the criteria from the card\n",
    "        effects = card_strain['Effect1'].values[0:2]\n",
    "        flavor = card_strain['Flavor'].values[0]\n",
    "        strain_type = card_strain['Type'].values[0]\n",
    "\n",
    "        # Filter strains with matching effects, flavor, and type\n",
    "        matching_strains = df[\n",
    "            (df['Effects'].apply(lambda x: all(effect in x for effect in effects)))\n",
    "            & (df['Flavor'].apply(lambda x: flavor in x))\n",
    "            & (df['Type'].str.lower() == strain_type.lower())\n",
    "        ]\n",
    "\n",
    "        if not matching_strains.empty:\n",
    "            # Sort strains based on their ratings\n",
    "            sorted_strains = matching_strains.sort_values('Rating', ascending=False)\n",
    "\n",
    "            return sorted_strains.head(n)\n",
    "\n",
    "        # If no exact match, find closest matching strains\n",
    "        matching_effects_flavor = df[\n",
    "            (df['Effects'].apply(lambda x: all(effect in x for effect in effects)))\n",
    "            & (df['Flavor'].apply(lambda x: flavor in x))\n",
    "        ]\n",
    "\n",
    "        if not matching_effects_flavor.empty:\n",
    "            # Sort strains based on their ratings\n",
    "            sorted_strains = matching_effects_flavor.sort_values('Rating', ascending=False)\n",
    "\n",
    "            return sorted_strains.head(n)\n",
    "\n",
    "        # If still no match, find closest matching strain type\n",
    "        matching_effects = df[\n",
    "            (df['Effects'].apply(lambda x: all(effect in x for effect in effects[0:1])))\n",
    "        ]\n",
    "\n",
    "        if not matching_effects.empty:\n",
    "            # Sort strains based on their ratings\n",
    "            sorted_strains = matching_effects.sort_values('Rating', ascending=False)\n",
    "\n",
    "            return sorted_strains.head(n)\n",
    "\n",
    "        # If still no match, find closest matching strains based on strain name\n",
    "        all_strain_names = df['Strain'].tolist()\n",
    "        closest_matches = get_close_matches(card, all_strain_names, n=n)\n",
    "\n",
    "        if closest_matches:\n",
    "            closest_matching_strains = df[df['Strain'].isin(closest_matches)]\n",
    "\n",
    "            return closest_matching_strains\n",
    "\n",
    "    return pd.DataFrame()"
   ]
  },
  {
   "cell_type": "markdown",
   "metadata": {},
   "source": [
    "Heyo, that's more like it!\n",
    "\n",
    "Now, I can work with my stakeholders of this tarot deck to correctly assign the Minor arcana to a strain of cannabis. Mission Success boys.\n",
    "\n",
    "This means that the last thing we want to do is to output the resulting strais for each card into a csv file to be reviewed and finalized:"
   ]
  },
  {
   "cell_type": "code",
   "execution_count": 106,
   "metadata": {},
   "outputs": [
    {
     "name": "stdout",
     "output_type": "stream",
     "text": [
      "Output file 'output.csv' has been created successfully.\n"
     ]
    }
   ],
   "source": [
    "# Create an empty DataFrame to store the results\n",
    "output_df = pd.DataFrame(columns=['Card', 'Strain', 'Matching Criteria', 'Description'])\n",
    "\n",
    "# Loop through each card in tarot_df\n",
    "for _, card_row in tarot_df.iterrows():\n",
    "    card = card_row['Card']\n",
    "    top_strains = find_matching_strains(card, tarot_df, df, n=5)\n",
    "\n",
    "    if not top_strains.empty:\n",
    "        for _, strain in top_strains.iterrows():\n",
    "            matching_criteria = ', '.join(strain['Effects'][0:2] + strain['Flavor'] + [strain['Type']])\n",
    "            output_df = output_df.append({\n",
    "                'Card': card,\n",
    "                'Strain': strain['Strain'],\n",
    "                'Matching Criteria': matching_criteria,\n",
    "                'Description': strain['Description']\n",
    "            }, ignore_index=True)\n",
    "\n",
    "# Write the results to output.csv\n",
    "output_df.to_csv('output.csv', index=False)\n",
    "\n",
    "print(\"Output file 'output.csv' has been created successfully.\")"
   ]
  },
  {
   "cell_type": "markdown",
   "metadata": {},
   "source": [
    "yay! see data science can be ...... maybe not 'fun' is the word id use, but you can do fun things with it :> 11/10 worth it.\n",
    "\n",
    "I am happy with the results of our fruit's labor\n",
    "\n",
    "STAY TUNED FOR A WEED THEMED TAROT DECK "
   ]
  },
  {
   "cell_type": "code",
   "execution_count": null,
   "metadata": {},
   "outputs": [],
   "source": []
  }
 ],
 "metadata": {
  "kernelspec": {
   "display_name": "learn-env",
   "language": "python",
   "name": "python3"
  },
  "language_info": {
   "codemirror_mode": {
    "name": "ipython",
    "version": 3
   },
   "file_extension": ".py",
   "mimetype": "text/x-python",
   "name": "python",
   "nbconvert_exporter": "python",
   "pygments_lexer": "ipython3",
   "version": "3.8.5"
  }
 },
 "nbformat": 4,
 "nbformat_minor": 2
}
